{
 "cells": [
  {
   "cell_type": "code",
   "execution_count": null,
   "id": "deb78b6f-753e-4004-bcd8-49efe6cec94d",
   "metadata": {},
   "outputs": [],
   "source": [
    "!pip install opencv-python\n",
    "!pip install scikeras"
   ]
  },
  {
   "cell_type": "code",
   "execution_count": 4,
   "id": "e0a4da04-a613-4664-83d0-ef8781cf853d",
   "metadata": {},
   "outputs": [],
   "source": [
    "import os\n",
    "import cv2\n",
    "import numpy as np\n",
    "import matplotlib.pyplot as plt\n",
    "import tensorflow as tf\n",
    "import keras\n",
    "import scipy"
   ]
  },
  {
   "cell_type": "code",
   "execution_count": 5,
   "id": "0bf7ed2b-c5ee-4422-b1d7-0405cd227e73",
   "metadata": {},
   "outputs": [],
   "source": [
    "from keras import layers\n",
    "from keras import models\n",
    "from keras import utils\n",
    "from keras.layers import Dense\n",
    "from keras.models import Sequential\n",
    "from keras.layers import Flatten\n",
    "from keras.layers import Dropout\n",
    "from keras.layers import Activation\n",
    "from keras.regularizers import l2\n",
    "from keras.optimizers import SGD\n",
    "from keras.optimizers import RMSprop\n",
    "from keras import datasets\n",
    "from keras.layers import InputLayer\n",
    "from scipy.optimize import minimize\n",
    "\n",
    "from keras.callbacks import LearningRateScheduler\n",
    "from keras.callbacks import History\n",
    "\n",
    "from sklearn.model_selection import GridSearchCV\n",
    "from scikeras.wrappers import KerasClassifier\n",
    "\n",
    "from keras import losses\n",
    "from sklearn.utils import shuffle"
   ]
  },
  {
   "cell_type": "code",
   "execution_count": null,
   "id": "78899b29-c2cf-4658-8446-567b10572990",
   "metadata": {},
   "outputs": [],
   "source": [
    "#https://towardsdatascience.com/simple-guide-to-hyperparameter-tuning-in-neural-networks-3fe03dad8594"
   ]
  },
  {
   "cell_type": "code",
   "execution_count": 6,
   "id": "69b20e26-bb8d-4238-9fb4-7ca2ce1c943e",
   "metadata": {},
   "outputs": [],
   "source": [
    "# fix random seed for reproducibility\n",
    "np.random.seed(5)"
   ]
  },
  {
   "cell_type": "code",
   "execution_count": 12,
   "id": "f5b0ffa5-4e93-4b24-95fe-24bcbb7d167b",
   "metadata": {},
   "outputs": [],
   "source": [
    "#loading the data\n",
    "mnist = tf.keras.datasets.mnist\n",
    "\n",
    "#split into training data and testing data (usually 80-20)\n",
    "(x_train, y_train), (x_test, y_test) = mnist.load_data()"
   ]
  },
  {
   "cell_type": "code",
   "execution_count": 13,
   "id": "e4077160-0f15-48d3-9c9e-0b31d52d0d7c",
   "metadata": {},
   "outputs": [
    {
     "data": {
      "image/png": "[encoded data removed]",
      "text/plain": [
       "<Figure size 1000x1000 with 10 Axes>"
      ]
     },
     "metadata": {},
     "output_type": "display_data"
    }
   ],
   "source": [
    "#Check the dataset\n",
    "plt.figure(figsize=(10,10))\n",
    "for i in range(10):\n",
    "    plt.subplot(5,5,i+1)\n",
    "    plt.xticks([])\n",
    "    plt.yticks([])\n",
    "    plt.grid(False)\n",
    "    plt.imshow(x_train[i], cmap=plt.cm.binary)\n",
    "    plt.xlabel(y_train[i])"
   ]
  },
  {
   "cell_type": "code",
   "execution_count": 14,
   "id": "ea915684-a24b-45ed-aacb-e97fbbd6a18a",
   "metadata": {},
   "outputs": [],
   "source": [
    "#normalize training sets so instead of having colours go from 0-255 they now go \n",
    "#from 0-1 based on the length of the axis\n",
    "x_train = tf.keras.utils.normalize(x_train, axis=1)\n",
    "x_test = tf.keras.utils.normalize(x_test, axis=1)"
   ]
  },
  {
   "cell_type": "code",
   "execution_count": null,
   "id": "bb1838f6-f278-4103-8643-9be4f18bc3ae",
   "metadata": {},
   "outputs": [],
   "source": [
    "#Flatten the 2D images into 1D vectors\n",
    "x_train = x_train.reshape(60000, 784)\n",
    "x_test = x_test.reshape(10000, 784)\n",
    "\n",
    "num_classes = 10\n",
    "\n",
    "# Check the column length\n",
    "x_train.shape[1]"
   ]
  },
  {
   "cell_type": "code",
   "execution_count": 16,
   "id": "244e98f8-acf6-468e-aa59-0aa5e7d97dc8",
   "metadata": {},
   "outputs": [],
   "source": [
    "# Convert class vectors to binary class matrices\n",
    "y_train = keras.utils.to_categorical(y_train, num_classes)\n",
    "y_test = keras.utils.to_categorical(y_test, num_classes)"
   ]
  },
  {
   "cell_type": "code",
   "execution_count": 17,
   "id": "9233bb80-3ba4-4324-abce-a8dea30e23ba",
   "metadata": {},
   "outputs": [],
   "source": [
    "#Stochastic Gradient Descent (SGD)\n",
    "epochs=60\n",
    "#Hyperparameters (typical values are learning_rate = 0.1, decay=1e-6, momentum=0.9, and nesterov=True\n",
    "#learning_rate = 0.1\n",
    "#decay_rate = learning_rate / epochs\n",
    "#momentum = 0.8\n",
    "\n",
    "sgd = SGD(learning_rate=0.1, momentum=0.8, nesterov=False)"
   ]
  },
  {
   "cell_type": "code",
   "execution_count": null,
   "id": "0d94339e-dca9-4322-8adb-192e960f2150",
   "metadata": {},
   "outputs": [],
   "source": [
    "# build the model\n",
    "input_dim = x_train.shape[1]\n",
    "\n",
    "lr_model = Sequential()\n",
    "lr_model.add(Dense(64, activation=tf.nn.relu, kernel_initializer='uniform', \n",
    "                input_dim = input_dim)) \n",
    "lr_model.add(Dropout(0.1))\n",
    "lr_model.add(Dense(64, kernel_initializer='uniform', activation=tf.nn.relu))\n",
    "lr_model.add(Dense(num_classes, kernel_initializer='uniform', activation=tf.nn.softmax))\n",
    "\n",
    "# compile the model\n",
    "lr_model.compile(loss='categorical_crossentropy',\n",
    "              optimizer=sgd,\n",
    "              metrics=['acc'])"
   ]
  },
  {
   "cell_type": "code",
   "execution_count": null,
   "id": "36ecc0e9-15d6-4d53-b2e5-f49852b3cd6a",
   "metadata": {},
   "outputs": [],
   "source": [
    "%%time\n",
    "# Fit the model\n",
    "batch_size = int(input_dim/100)\n",
    "\n",
    "lr_model_history = lr_model.fit(x_train, y_train,\n",
    "                    batch_size=batch_size,\n",
    "                    epochs=epochs,\n",
    "                    verbose=1,\n",
    "                    validation_data=(x_test, y_test))"
   ]
  },
  {
   "cell_type": "code",
   "execution_count": null,
   "id": "809c5473-27c8-4257-9930-7235d41c3c75",
   "metadata": {},
   "outputs": [],
   "source": [
    "# Plot the loss function\n",
    "fig, ax = plt.subplots(1, 1, figsize=(10,6))\n",
    "ax.plot(np.sqrt(lr_model_history.history['loss']), 'r', label='train')\n",
    "ax.plot(np.sqrt(lr_model_history.history['val_loss']), 'b' ,label='val')\n",
    "ax.set_xlabel(r'Epoch', fontsize=20)\n",
    "ax.set_ylabel(r'Loss', fontsize=20)\n",
    "ax.legend()\n",
    "ax.tick_params(labelsize=20)\n",
    "\n",
    "# Plot the accuracy\n",
    "fig, ax = plt.subplots(1, 1, figsize=(10,6))\n",
    "ax.plot(np.sqrt(lr_model_history.history['acc']), 'r', label='train')\n",
    "ax.plot(np.sqrt(lr_model_history.history['val_acc']), 'b' ,label='val')\n",
    "ax.set_xlabel(r'Epoch', fontsize=20)\n",
    "ax.set_ylabel(r'Accuracy', fontsize=20)\n",
    "ax.legend()\n",
    "ax.tick_params(labelsize=20)"
   ]
  },
  {
   "cell_type": "code",
   "execution_count": null,
   "id": "4d5acba0-060e-4ea9-b865-5dfc1539895d",
   "metadata": {},
   "outputs": [],
   "source": [
    "#Stochastic Gradient Descent (SGD)\n",
    "epochs=60\n",
    "#Hyperparameters (typical values are learning_rate = 0.1, decay=1e-6, momentum=0.9, and nesterov=True\n",
    "learning_rate = 0.1\n",
    "decay_rate = learning_rate / epochs\n",
    "#momentum = 0.8\n",
    "\n",
    "sgd = SGD(learning_rate=0.1, momentum=0.8, nesterov=False)"
   ]
  },
  {
   "cell_type": "code",
   "execution_count": null,
   "id": "fa9268b8-9d8e-4c6a-a01d-0fedcead003c",
   "metadata": {},
   "outputs": [],
   "source": [
    "# build the model\n",
    "input_dim = x_train.shape[1]\n",
    "num_classes = 10\n",
    "batch_size = 196\n",
    "\n",
    "exponential_decay_model = Sequential()\n",
    "exponential_decay_model.add(Dense(64, activation=tf.nn.relu, kernel_initializer='uniform', input_dim = input_dim))\n",
    "exponential_decay_model.add(Dropout(0.1))\n",
    "exponential_decay_model.add(Dense(64, kernel_initializer='uniform', activation=tf.nn.relu))\n",
    "exponential_decay_model.add(Dense(num_classes, kernel_initializer='uniform', activation=tf.nn.softmax))\n",
    "\n",
    "\n",
    "exponential_decay_model.compile(loss='categorical_crossentropy', \n",
    "                                optimizer=sgd, \n",
    "                                metrics=['acc'])\n",
    "\n",
    "# define the learning rate change \n",
    "def exp_decay(epoch):\n",
    "    lrate = learning_rate * np.exp(-decay_rate*epoch)\n",
    "    return lrate\n",
    "\n",
    "# learning schedule callback\n",
    "loss_history = History()\n",
    "lr_rate = LearningRateScheduler(exp_decay)\n",
    "callbacks_list = [loss_history, lr_rate]\n",
    "\n",
    "# you invoke the LearningRateScheduler during the .fit() phase\n",
    "exponential_decay_model_history = exponential_decay_model.fit(x_train, y_train,\n",
    "                                    batch_size=batch_size,\n",
    "                                    epochs=epochs,\n",
    "                                    callbacks=callbacks_list,\n",
    "                                    verbose=1,\n",
    "                                    validation_data=(x_test, y_test))"
   ]
  },
  {
   "cell_type": "code",
   "execution_count": null,
   "id": "1e9fe5ce-5070-4a00-8db6-11ca2d3d92a7",
   "metadata": {},
   "outputs": [],
   "source": [
    "# Plot the loss function\n",
    "fig, ax = plt.subplots(1, 1, figsize=(10,6))\n",
    "ax.plot(np.sqrt(exponential_decay_model_history.history['loss']), 'r', label='train')\n",
    "ax.plot(np.sqrt(exponential_decay_model_history.history['val_loss']), 'b' ,label='val')\n",
    "ax.set_xlabel(r'Epoch', fontsize=20)\n",
    "ax.set_ylabel(r'Loss', fontsize=20)\n",
    "ax.legend()\n",
    "ax.tick_params(labelsize=20)\n",
    "\n",
    "# Plot the accuracy\n",
    "fig, ax = plt.subplots(1, 1, figsize=(10,6))\n",
    "ax.plot(np.sqrt(exponential_decay_model_history.history['acc']), 'r', label='train')\n",
    "ax.plot(np.sqrt(exponential_decay_model_history.history['val_acc']), 'b' ,label='val')\n",
    "ax.set_xlabel(r'Epoch', fontsize=20)\n",
    "ax.set_ylabel(r'Accuracy', fontsize=20)\n",
    "ax.legend()\n",
    "ax.tick_params(labelsize=20)"
   ]
  },
  {
   "cell_type": "code",
   "execution_count": null,
   "id": "e59418d2-8b6e-4fca-a5f7-a43bfb6f8de8",
   "metadata": {},
   "outputs": [],
   "source": [
    "# build the model\n",
    "input_dim = x_train.shape[1]\n",
    "\n",
    "model = Sequential()\n",
    "model.add(Dense(64, activation=tf.nn.relu, kernel_initializer='uniform', \n",
    "                input_dim = input_dim)) # fully-connected layer with 64 hidden units\n",
    "model.add(Dropout(0.1))\n",
    "model.add(Dense(64, kernel_initializer='uniform', activation=tf.nn.relu))\n",
    "model.add(Dense(num_classes, kernel_initializer='uniform', activation=tf.nn.softmax))\n",
    "\n",
    "# defining the parameters for RMSprop (I used the keras defaults here)\n",
    "rms = RMSprop(learning_rate=0.001, rho=0.9, decay=0.0)\n",
    "\n",
    "model.compile(loss='categorical_crossentropy',\n",
    "              optimizer=rms,\n",
    "              metrics=['acc'])"
   ]
  },
  {
   "cell_type": "code",
   "execution_count": null,
   "id": "a7ae400a-3683-4d56-986a-820852d9f9f3",
   "metadata": {},
   "outputs": [],
   "source": [
    "%%time\n",
    "batch_size = input_dim\n",
    "epochs = 60\n",
    "\n",
    "model_history = model.fit(x_train, y_train,\n",
    "                    batch_size=batch_size,\n",
    "                    epochs=epochs,\n",
    "                    verbose=1,\n",
    "                    validation_data=(x_test, y_test))"
   ]
  },
  {
   "cell_type": "code",
   "execution_count": null,
   "id": "13cfaae8-0eb3-4818-9025-f0a67ce49ec0",
   "metadata": {
    "scrolled": true
   },
   "outputs": [],
   "source": [
    "score = model.evaluate(x_test, y_test, verbose=0)\n",
    "print('Test loss:', score[0])\n",
    "print('Test accuracy:', score[1])\n",
    "\n",
    "fig, ax = plt.subplots(1, 1, figsize=(10,6))\n",
    "ax.plot(np.sqrt(model_history.history['acc']), 'r', label='train_acc')\n",
    "ax.plot(np.sqrt(model_history.history['val_acc']), 'b' ,label='val_acc')\n",
    "ax.set_xlabel(r'Epoch', fontsize=20)\n",
    "ax.set_ylabel(r'Accuracy', fontsize=20)\n",
    "ax.legend()\n",
    "ax.tick_params(labelsize=20)\n",
    "\n",
    "fig, ax = plt.subplots(1, 1, figsize=(10,6))\n",
    "ax.plot(np.sqrt(model_history.history['loss']), 'r', label='train')\n",
    "ax.plot(np.sqrt(model_history.history['val_loss']), 'b' ,label='val')\n",
    "ax.set_xlabel(r'Epoch', fontsize=20)\n",
    "ax.set_ylabel(r'Loss', fontsize=20)\n",
    "ax.legend()\n",
    "ax.tick_params(labelsize=20)"
   ]
  },
  {
   "cell_type": "code",
   "execution_count": null,
   "id": "e6ecb5c8-f2fd-4f7d-8a7a-8b696780e0b4",
   "metadata": {},
   "outputs": [],
   "source": [
    "# let's create a function that creates the model (required for KerasClassifier) \n",
    "# while accepting the hyperparameters we want to tune \n",
    "# we also pass some default values such as optimizer='rmsprop'\n",
    "def create_model(init_mode='uniform'):\n",
    "    # define model\n",
    "    model = Sequential()\n",
    "    model.add(Dense(64, kernel_initializer=init_mode, activation=tf.nn.relu, input_dim=784)) \n",
    "    model.add(Dropout(0.1))\n",
    "    model.add(Dense(64, kernel_initializer=init_mode, activation=tf.nn.relu))\n",
    "    model.add(Dense(10, kernel_initializer=init_mode, activation=tf.nn.softmax))\n",
    "    # compile model\n",
    "    model.compile(loss='categorical_crossentropy',\n",
    "              optimizer=RMSprop(),\n",
    "              metrics=['accuracy'])\n",
    "    return model"
   ]
  },
  {
   "cell_type": "code",
   "execution_count": null,
   "id": "41d6ac89-2730-48b0-b5bc-b97282a78013",
   "metadata": {
    "scrolled": true
   },
   "outputs": [],
   "source": [
    "%%time\n",
    "seed = 7\n",
    "np.random.seed(seed)\n",
    "batch_size = 128\n",
    "epochs = 10\n",
    "\n",
    "model_CV = KerasClassifier(model=create_model, epochs=epochs, \n",
    "                           batch_size=batch_size, verbose=1, init_mode='uniform')\n",
    "# define the grid search parameters\n",
    "init_mode = ['uniform', 'lecun_uniform', 'normal', 'zero', \n",
    "             'glorot_normal', 'glorot_uniform', 'he_normal', 'he_uniform']\n",
    "\n",
    "param_grid = dict(init_mode=init_mode)\n",
    "grid = GridSearchCV(estimator=model_CV, param_grid=param_grid, n_jobs=-1, cv=3)\n",
    "grid_result = grid.fit(x_train, y_train)"
   ]
  },
  {
   "cell_type": "code",
   "execution_count": null,
   "id": "52a07a7e-faa4-4691-91af-d5cac5756928",
   "metadata": {},
   "outputs": [],
   "source": [
    "# print results\n",
    "print(f'Best Accuracy for {grid_result.best_score_} using {grid_result.best_params_}')\n",
    "means = grid_result.cv_results_['mean_test_score']\n",
    "stds = grid_result.cv_results_['std_test_score']\n",
    "params = grid_result.cv_results_['params']\n",
    "for mean, stdev, param in zip(means, stds, params):\n",
    "    print(f' mean={mean:.4}, std={stdev:.4} using {param}')"
   ]
  },
  {
   "cell_type": "code",
   "execution_count": null,
   "id": "4b3cc36a-d15d-4a1b-9f78-7c3ec934dbcf",
   "metadata": {},
   "outputs": [],
   "source": [
    "# repeat some of the initial values here so we make sure they were not changed\n",
    "input_dim = x_train.shape[1]\n",
    "num_classes = 10\n",
    "\n",
    "# let's create a function that creates the model (required for KerasClassifier) \n",
    "# while accepting the hyperparameters we want to tune \n",
    "# we also pass some default values such as optimizer='rmsprop'\n",
    "def create_model_2(activation_function='relu',optimizer='rmsprop', init='uniform'):\n",
    "    model = Sequential()\n",
    "    model.add(Dense(64, input_dim=input_dim, kernel_initializer=init, activation=activation_function))\n",
    "    model.add(Dropout(0.1))\n",
    "    model.add(Dense(64, kernel_initializer=init, activation=activation_function))\n",
    "    model.add(Dense(num_classes, kernel_initializer=init, activation=tf.nn.softmax))\n",
    "\n",
    "    # compile model\n",
    "    model.compile(loss='categorical_crossentropy', \n",
    "                  optimizer=optimizer, \n",
    "                  metrics=['accuracy'])\n",
    "\n",
    "    return model"
   ]
  },
  {
   "cell_type": "code",
   "execution_count": null,
   "id": "315dbb62-1568-4241-8c3b-d61e624b3efd",
   "metadata": {},
   "outputs": [],
   "source": [
    "%%time\n",
    "# fix random seed for reproducibility (this might work or might not work \n",
    "# depending on each library's implenentation)\n",
    "seed = 7\n",
    "np.random.seed(seed)\n",
    "\n",
    "# create the sklearn model for the network\n",
    "model_init_batch_epoch_CV = KerasClassifier(model=create_model_2, batch_size = 40, verbose=1, epochs = 10, init = \"uniform\")\n",
    "model_init_batch_epoch_CV\n",
    "# # we choose the initializers that came at the top in our previous cross-validation!!\n",
    "init_mode = ['uniform', 'glorot_uniform', 'he_uniform'] \n",
    "batches = [128, 512]\n",
    "epochs = [10, 20]\n",
    "activation = ['relu', 'sigmoid']\n",
    "\n",
    "\n",
    "# # grid search for initializer, batch size and number of epochs\n",
    "param_grids = dict(epochs=epochs, batch_size=batches, init=init_mode)\n",
    "grid = GridSearchCV(estimator=model_init_batch_epoch_CV, \n",
    "                    param_grid=param_grids,\n",
    "                    cv=3)\n",
    "grid_result = grid.fit(x_train, y_train)"
   ]
  },
  {
   "cell_type": "code",
   "execution_count": null,
   "id": "938d5523-146c-462b-ab7a-bd9dc73e00b9",
   "metadata": {},
   "outputs": [],
   "source": [
    "model_init_batch_epoch_CV.get_params().keys()"
   ]
  },
  {
   "cell_type": "code",
   "execution_count": null,
   "id": "609910e3-21a6-42f2-8db0-b33a90886ecd",
   "metadata": {},
   "outputs": [],
   "source": [
    "# print results\n",
    "print(f'Best Accuracy for {grid_result.best_score_:.4} using {grid_result.best_params_}')\n",
    "means = grid_result.cv_results_['mean_test_score']\n",
    "stds = grid_result.cv_results_['std_test_score']\n",
    "params = grid_result.cv_results_['params']\n",
    "for mean, stdev, param in zip(means, stds, params):\n",
    "    print(f'mean={mean:.4}, std={stdev:.4} using {param}')"
   ]
  },
  {
   "cell_type": "code",
   "execution_count": null,
   "id": "343c22cc-34bf-4e71-8a92-c001b27d1bb9",
   "metadata": {},
   "outputs": [],
   "source": [
    "#One last question before we end: what do we do if the number of parameters and values we have to cycle through in our GridSearchCV is particularly large?\n",
    "\n",
    "#This can be a particularly troublesome problem — imagine a situation where there are five parameters being selected for and 10 potential values that we have selected for each parameter. The number of unique combinations of this is 10⁵, which means we would have to train a ridiculously large number of networks. It would be insanity to do it this way, so it is common to use RandomizedCV as an alternative.\n",
    "\n",
    "#RandomizedCV allows us to specify all of our potential parameters. Then for each fold in the cross-validation, it selects a random subset of parameters to use for the current model. In the end, the user can select the optimal set of parameters and use these as an approximate solution."
   ]
  },
  {
   "cell_type": "code",
   "execution_count": null,
   "id": "e39dba0a-d1c8-481e-a46f-122fb6e4c52b",
   "metadata": {},
   "outputs": [],
   "source": [
    "# build the model\n",
    "\n",
    "#creatae layers and set activation\n",
    "model = tf.keras.models.Sequential()\n",
    "\n",
    "#add the first layer which flattens the later from 28x28 to a 784 layer\n",
    "model.add(tf.keras.layers.Flatten(input_shape=(28,28)))\n",
    "\n",
    "#Add second layer (dense), which is just a basic layer which is connected to all neurons\n",
    "#First mention how many neuros\n",
    "#Secondly mention the activation (relu = rectivy linear unit returns x if x > 0 and 0 if x<= 0) \n",
    "#different activation (relu, sigmoid, tanh, elus, etc.\n",
    "model.add(tf.keras.layers.Dense(128, activation='sigmoid', kernel_initializer='he_uniform'))\n",
    "model.add(Dropout(0.1))\n",
    "model.add(tf.keras.layers.Dense(128, activation='sigmoid', kernel_initializer='he_uniform'))\n",
    "\n",
    "#Output layer, represents individual numbers 0-9\n",
    "#Activation softmax = gives the highest probability of a specific individual number\n",
    "model.add(tf.keras.layers.Dense(10, activation='softmax', kernel_initializer='he_uniform'))"
   ]
  },
  {
   "cell_type": "code",
   "execution_count": null,
   "id": "aa10fd82-7ed7-436d-be92-283d97dc42ab",
   "metadata": {},
   "outputs": [],
   "source": [
    "# defining the parameters for RMSprop (I used the keras defaults here)\n",
    "rms = RMSprop(learning_rate=0.001, rho=0.9)\n",
    "\n",
    "model.compile(loss='sparse_categorical_crossentropy', metrics=['accuracy'], optimizer=rms)"
   ]
  },
  {
   "cell_type": "code",
   "execution_count": null,
   "id": "c0e445e0-2a50-499f-a1a3-d32b061c8934",
   "metadata": {},
   "outputs": [],
   "source": [
    "%%time\n",
    "\n",
    "model_history = model.fit(x_train, y_train,\n",
    "                    batch_size=128,\n",
    "                    epochs=60,\n",
    "                    verbose=1,\n",
    "                    validation_data=(x_test, y_test))"
   ]
  },
  {
   "cell_type": "code",
   "execution_count": null,
   "id": "16f45856-896e-46cb-8b62-493f037a4925",
   "metadata": {},
   "outputs": [],
   "source": [
    "model.save('trained_neural_network_2_0.keras')"
   ]
  },
  {
   "cell_type": "code",
   "execution_count": null,
   "id": "141fcb83-0ce0-4c1b-83df-a3f982753ed6",
   "metadata": {},
   "outputs": [],
   "source": [
    "#load the model if you have it saved to skip training steps\n",
    "model = tf.keras.models.load_model('trained_neural_network_2_0.keras')"
   ]
  },
  {
   "cell_type": "code",
   "execution_count": null,
   "id": "0c20e04d-8a23-4edd-a409-887108774f06",
   "metadata": {},
   "outputs": [],
   "source": [
    "#initialize image number\n",
    "image_number = 1\n",
    "\n",
    "#while you have more images\n",
    "while os.path.isfile(f\"Hand written numbers/digit{image_number}.png\"):\n",
    "    try:\n",
    "        #read the image\n",
    "        img = cv2.imread(f\"Hand written numbers/digit{image_number}.png\")[:,:,0]\n",
    "        #invert the colours (black to white and white to black) and make into an array\n",
    "        img = np.invert(np.array([img]))\n",
    "        #now predict the number of the image using the model\n",
    "        prediction = model.predict(img)\n",
    "        #print prediction np.argmax gives the field that has the highest number\n",
    "        print(f\"the number is probably a {np.argmax(prediction)}\")\n",
    "        plt.imshow(img[0], cmap=plt.cm.binary)\n",
    "        plt.show()\n",
    "    except:\n",
    "        print(\"Error!\")\n",
    "    finally:\n",
    "        image_number += 1"
   ]
  },
  {
   "cell_type": "code",
   "execution_count": null,
   "id": "123b89fc-f2ba-4665-bba6-8e4bae7ffb3f",
   "metadata": {},
   "outputs": [],
   "source": [
    "model = tf.keras.models.load_model('model_01.keras')"
   ]
  },
  {
   "cell_type": "code",
   "execution_count": null,
   "id": "73e9cae8-34e4-446e-aac9-d76cf1b1987d",
   "metadata": {},
   "outputs": [],
   "source": [
    "fig, ax = plt.subplots(1, 1, figsize=(10,6))\n",
    "ax.plot(np.sqrt(model.history['acc']), 'r', label='train_acc')\n",
    "ax.plot(np.sqrt(model.history['val_acc']), 'b' ,label='val_acc')\n",
    "ax.set_xlabel(r'Epoch', fontsize=20)\n",
    "ax.set_ylabel(r'Accuracy', fontsize=20)\n",
    "ax.legend()\n",
    "ax.tick_params(labelsize=20)\n",
    "\n",
    "fig, ax = plt.subplots(1, 1, figsize=(10,6))\n",
    "ax.plot(np.sqrt(model.history['loss']), 'r', label='train')\n",
    "ax.plot(np.sqrt(model.history['val_loss']), 'b' ,label='val')\n",
    "ax.set_xlabel(r'Epoch', fontsize=20)\n",
    "ax.set_ylabel(r'Loss', fontsize=20)\n",
    "ax.legend()\n",
    "ax.tick_params(labelsize=20)"
   ]
  },
  {
   "cell_type": "code",
   "execution_count": null,
   "id": "a881b42d-fdc8-4c22-88a0-11fa09bc09fb",
   "metadata": {},
   "outputs": [],
   "source": []
  }
 ],
 "metadata": {
  "kernelspec": {
   "display_name": "Python 3 (ipykernel)",
   "language": "python",
   "name": "python3"
  },
  "language_info": {
   "codemirror_mode": {
    "name": "ipython",
    "version": 3
   },
   "file_extension": ".py",
   "mimetype": "text/x-python",
   "name": "python",
   "nbconvert_exporter": "python",
   "pygments_lexer": "ipython3",
   "version": "3.11.7"
  }
 },
 "nbformat": 4,
 "nbformat_minor": 5
}
